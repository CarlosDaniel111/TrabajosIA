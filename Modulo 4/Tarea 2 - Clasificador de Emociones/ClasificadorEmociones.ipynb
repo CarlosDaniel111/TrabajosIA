{
 "cells": [
  {
   "cell_type": "markdown",
   "id": "00a21e0a",
   "metadata": {},
   "source": [
    "# Generador del Modelo CNN para Clasificador de Emociones\n",
    "\n",
    "## Integrantes:\n",
    "- Beltran Medina Carlos Daniel\n",
    "- Beltran Ontiveros Karen Valeria\n",
    "\n",
    "## Dataset"
   ]
  },
  {
   "cell_type": "markdown",
   "id": "1e2571fe",
   "metadata": {},
   "source": [
    "### 1. Importar las librerias necesarias"
   ]
  },
  {
   "cell_type": "code",
   "execution_count": 1,
   "id": "eb08f23f",
   "metadata": {},
   "outputs": [],
   "source": [
    "import os\n",
    "import cv2\n",
    "import torch\n",
    "import torch.nn as nn\n",
    "import torch.optim as optim\n",
    "from torchvision import datasets, transforms\n",
    "from torch.utils.data import DataLoader\n",
    "from sklearn.metrics import classification_report\n",
    "import numpy as np\n",
    "from PIL import Image"
   ]
  },
  {
   "cell_type": "markdown",
   "id": "170e3ae1",
   "metadata": {},
   "source": [
    "### 2. Configuraciones previas"
   ]
  },
  {
   "cell_type": "code",
   "execution_count": 2,
   "id": "7d35a57f",
   "metadata": {},
   "outputs": [
    {
     "name": "stdout",
     "output_type": "stream",
     "text": [
      "Usando dispositivo: cpu\n"
     ]
    }
   ],
   "source": [
    "ruta_dataset = \"../dataset\"\n",
    "batch_size = 64\n",
    "epochs = 30\n",
    "lr = 0.001\n",
    "device = torch.device(\"cuda\" if torch.cuda.is_available() else \"cpu\")\n",
    "print(f\"Usando dispositivo: {device}\")"
   ]
  },
  {
   "cell_type": "markdown",
   "id": "47d45cbc",
   "metadata": {},
   "source": [
    "### 3. Carga y preprocesamiento de las imagenes"
   ]
  },
  {
   "cell_type": "code",
   "execution_count": 5,
   "id": "a8510272",
   "metadata": {},
   "outputs": [
    {
     "name": "stdout",
     "output_type": "stream",
     "text": [
      "Clases: ['angry', 'disgust', 'fear', 'happy', 'neutral', 'sad', 'surprise']\n"
     ]
    }
   ],
   "source": [
    "train_transforms = transforms.Compose([\n",
    "    transforms.Grayscale(),\n",
    "    transforms.Resize((48, 48)),\n",
    "    transforms.RandomHorizontalFlip(),\n",
    "    transforms.RandomRotation(10),\n",
    "    transforms.ToTensor(),\n",
    "    transforms.Normalize((0.5,), (0.5,))\n",
    "])\n",
    "\n",
    "val_transforms = transforms.Compose([\n",
    "    transforms.Grayscale(),\n",
    "    transforms.Resize((48, 48)),\n",
    "    transforms.ToTensor(),\n",
    "    transforms.Normalize((0.5,), (0.5,))\n",
    "])\n",
    "\n",
    "train_dataset = datasets.ImageFolder(os.path.join(ruta_dataset, 'train'), transform=train_transforms)\n",
    "val_dataset = datasets.ImageFolder(os.path.join(ruta_dataset, 'test'), transform=val_transforms)\n",
    "\n",
    "train_loader = DataLoader(train_dataset, batch_size=batch_size, shuffle=True)\n",
    "val_loader = DataLoader(val_dataset, batch_size=batch_size, shuffle=False)\n",
    "\n",
    "class_names = train_dataset.classes\n",
    "print(f\"Clases: {class_names}\")"
   ]
  },
  {
   "cell_type": "markdown",
   "id": "516995e0",
   "metadata": {},
   "source": [
    "### 4. Modelo CNN"
   ]
  },
  {
   "cell_type": "code",
   "execution_count": 4,
   "id": "09251ec1",
   "metadata": {},
   "outputs": [],
   "source": [
    "class EmotionCNN(nn.Module):\n",
    "    def __init__(self):\n",
    "        super(EmotionCNN, self).__init__()\n",
    "        self.conv_block = nn.Sequential(\n",
    "            nn.Conv2d(1, 32, 3, padding=1), nn.ReLU(), nn.BatchNorm2d(32), nn.MaxPool2d(2),\n",
    "            nn.Conv2d(32, 64, 3, padding=1), nn.ReLU(), nn.BatchNorm2d(64), nn.MaxPool2d(2),\n",
    "            nn.Conv2d(64, 128, 3, padding=1), nn.ReLU(), nn.BatchNorm2d(128), nn.MaxPool2d(2)\n",
    "        )\n",
    "        self.fc = nn.Sequential(\n",
    "            nn.Flatten(),\n",
    "            nn.Linear(128 * 6 * 6, 256), nn.ReLU(), nn.Dropout(0.5),\n",
    "            nn.Linear(256, 7)\n",
    "        )\n",
    "\n",
    "    def forward(self, x):\n",
    "        x = self.conv_block(x)\n",
    "        x = self.fc(x)\n",
    "        return x\n",
    "    \n",
    "model = EmotionCNN().to(device)"
   ]
  },
  {
   "cell_type": "markdown",
   "id": "1dc6186a",
   "metadata": {},
   "source": [
    "### 5. Entrenamiento"
   ]
  },
  {
   "cell_type": "code",
   "execution_count": 8,
   "id": "a2b3ef54",
   "metadata": {},
   "outputs": [
    {
     "name": "stdout",
     "output_type": "stream",
     "text": [
      "Epoch 1/30\n",
      "Train loss: 1.3779, acc: 0.4725\n",
      "Val   loss: 1.2554, acc: 0.5198\n",
      "Modelo generado exitosamente.\n",
      "Epoch 2/30\n",
      "Train loss: 1.3034, acc: 0.5053\n",
      "Val   loss: 1.1819, acc: 0.5525\n",
      "Modelo generado exitosamente.\n",
      "Epoch 3/30\n",
      "Train loss: 1.2443, acc: 0.5273\n",
      "Val   loss: 1.1604, acc: 0.5559\n",
      "Modelo generado exitosamente.\n",
      "Epoch 4/30\n",
      "Train loss: 1.2125, acc: 0.5413\n",
      "Val   loss: 1.1652, acc: 0.5606\n",
      "Modelo generado exitosamente.\n",
      "Epoch 5/30\n",
      "Train loss: 1.1825, acc: 0.5532\n",
      "Val   loss: 1.1212, acc: 0.5793\n",
      "Modelo generado exitosamente.\n",
      "Epoch 6/30\n",
      "Train loss: 1.1560, acc: 0.5667\n",
      "Val   loss: 1.1035, acc: 0.5886\n",
      "Modelo generado exitosamente.\n",
      "Epoch 7/30\n",
      "Train loss: 1.1271, acc: 0.5720\n",
      "Val   loss: 1.1012, acc: 0.5911\n",
      "Modelo generado exitosamente.\n",
      "Epoch 8/30\n",
      "Train loss: 1.1108, acc: 0.5787\n",
      "Val   loss: 1.0984, acc: 0.5883\n",
      "Epoch 9/30\n",
      "Train loss: 1.0907, acc: 0.5874\n",
      "Val   loss: 1.0774, acc: 0.5995\n",
      "Modelo generado exitosamente.\n",
      "Epoch 10/30\n",
      "Train loss: 1.0664, acc: 0.5986\n",
      "Val   loss: 1.0815, acc: 0.5995\n",
      "Epoch 11/30\n",
      "Train loss: 1.0582, acc: 0.5996\n",
      "Val   loss: 1.0975, acc: 0.6018\n",
      "Modelo generado exitosamente.\n",
      "Epoch 12/30\n",
      "Train loss: 1.0375, acc: 0.6106\n",
      "Val   loss: 1.0816, acc: 0.6042\n",
      "Modelo generado exitosamente.\n",
      "Epoch 13/30\n",
      "Train loss: 1.0199, acc: 0.6154\n",
      "Val   loss: 1.0782, acc: 0.6067\n",
      "Modelo generado exitosamente.\n",
      "Epoch 14/30\n",
      "Train loss: 1.0125, acc: 0.6212\n",
      "Val   loss: 1.0727, acc: 0.6137\n",
      "Modelo generado exitosamente.\n",
      "Epoch 15/30\n",
      "Train loss: 0.9990, acc: 0.6240\n",
      "Val   loss: 1.0687, acc: 0.6110\n",
      "Epoch 16/30\n",
      "Train loss: 0.9800, acc: 0.6311\n",
      "Val   loss: 1.0841, acc: 0.6128\n",
      "Epoch 17/30\n",
      "Train loss: 0.9671, acc: 0.6337\n",
      "Val   loss: 1.0626, acc: 0.6148\n",
      "Modelo generado exitosamente.\n",
      "Epoch 18/30\n",
      "Train loss: 0.9500, acc: 0.6402\n",
      "Val   loss: 1.0548, acc: 0.6262\n",
      "Modelo generado exitosamente.\n",
      "Epoch 19/30\n",
      "Train loss: 0.9345, acc: 0.6492\n",
      "Val   loss: 1.0824, acc: 0.6223\n",
      "Epoch 20/30\n",
      "Train loss: 0.9311, acc: 0.6478\n",
      "Val   loss: 1.0571, acc: 0.6252\n",
      "Epoch 21/30\n",
      "Train loss: 0.9027, acc: 0.6605\n",
      "Val   loss: 1.0771, acc: 0.6225\n",
      "Epoch 22/30\n",
      "Train loss: 0.9041, acc: 0.6600\n",
      "Val   loss: 1.0665, acc: 0.6202\n",
      "Epoch 23/30\n",
      "Train loss: 0.8953, acc: 0.6627\n",
      "Val   loss: 1.0667, acc: 0.6305\n",
      "Modelo generado exitosamente.\n",
      "Epoch 24/30\n",
      "Train loss: 0.8859, acc: 0.6668\n",
      "Val   loss: 1.0558, acc: 0.6251\n",
      "Epoch 25/30\n",
      "Train loss: 0.8725, acc: 0.6706\n",
      "Val   loss: 1.0841, acc: 0.6303\n",
      "Epoch 26/30\n",
      "Train loss: 0.8631, acc: 0.6716\n",
      "Val   loss: 1.1060, acc: 0.6266\n",
      "Epoch 27/30\n",
      "Train loss: 0.8508, acc: 0.6780\n",
      "Val   loss: 1.0943, acc: 0.6312\n",
      "Modelo generado exitosamente.\n",
      "Epoch 28/30\n",
      "Train loss: 0.8361, acc: 0.6850\n",
      "Val   loss: 1.1270, acc: 0.6262\n",
      "Epoch 29/30\n",
      "Train loss: 0.8384, acc: 0.6860\n",
      "Val   loss: 1.0955, acc: 0.6283\n",
      "Epoch 30/30\n",
      "Train loss: 0.8301, acc: 0.6862\n",
      "Val   loss: 1.1123, acc: 0.6332\n",
      "Modelo generado exitosamente.\n"
     ]
    }
   ],
   "source": [
    "criterion = nn.CrossEntropyLoss()\n",
    "optimizer = optim.Adam(model.parameters(), lr=lr)\n",
    "\n",
    "best_val_acc = 0.0\n",
    "\n",
    "for epoch in range(epochs):\n",
    "    model.train()\n",
    "    train_loss, train_correct = 0.0, 0\n",
    "\n",
    "    for images, labels in train_loader:\n",
    "        images, labels = images.to(device), labels.to(device)\n",
    "\n",
    "        optimizer.zero_grad()\n",
    "        outputs = model(images)\n",
    "        loss = criterion(outputs, labels)\n",
    "        loss.backward()\n",
    "        optimizer.step()\n",
    "\n",
    "        train_loss += loss.item() * images.size(0)\n",
    "        _, preds = torch.max(outputs, 1)\n",
    "        train_correct += torch.sum(preds == labels).item()\n",
    "\n",
    "    model.eval()\n",
    "    val_loss, val_correct = 0.0, 0\n",
    "    all_preds, all_labels = [], []\n",
    "\n",
    "    with torch.no_grad():\n",
    "        for images, labels in val_loader:\n",
    "            images, labels = images.to(device), labels.to(device)\n",
    "            outputs = model(images)\n",
    "            loss = criterion(outputs, labels)\n",
    "            val_loss += loss.item() * images.size(0)\n",
    "            _, preds = torch.max(outputs, 1)\n",
    "            val_correct += torch.sum(preds == labels).item()\n",
    "            all_preds.extend(preds.cpu().numpy())\n",
    "            all_labels.extend(labels.cpu().numpy())\n",
    "\n",
    "    train_acc = train_correct / len(train_dataset)\n",
    "    val_acc = val_correct / len(val_dataset)\n",
    "\n",
    "    print(f\"Epoch {epoch+1}/{epochs}\")\n",
    "    print(f\"Train loss: {train_loss/len(train_dataset):.4f}, acc: {train_acc:.4f}\")\n",
    "    print(f\"Val   loss: {val_loss/len(val_dataset):.4f}, acc: {val_acc:.4f}\")\n",
    "\n",
    "    if val_acc > best_val_acc:\n",
    "        best_val_acc = val_acc\n",
    "        torch.save(model.state_dict(), \"modelo_emociones.pt\")\n",
    "        print(\"Modelo generado exitosamente.\")"
   ]
  },
  {
   "cell_type": "markdown",
   "id": "a2c8a1e1",
   "metadata": {},
   "source": [
    "### 6. Reporte del modelo"
   ]
  },
  {
   "cell_type": "code",
   "execution_count": 9,
   "id": "a9408bf1",
   "metadata": {},
   "outputs": [
    {
     "name": "stdout",
     "output_type": "stream",
     "text": [
      "Reporte de clasificación:\n",
      "              precision    recall  f1-score   support\n",
      "\n",
      "       angry       0.60      0.49      0.54       958\n",
      "     disgust       0.80      0.37      0.51       111\n",
      "        fear       0.47      0.43      0.45      1024\n",
      "       happy       0.84      0.83      0.84      1774\n",
      "     neutral       0.59      0.63      0.61      1233\n",
      "         sad       0.47      0.56      0.51      1247\n",
      "    surprise       0.77      0.77      0.77       831\n",
      "\n",
      "    accuracy                           0.63      7178\n",
      "   macro avg       0.65      0.58      0.60      7178\n",
      "weighted avg       0.64      0.63      0.63      7178\n",
      "\n"
     ]
    }
   ],
   "source": [
    "print(\"Reporte de clasificación:\")\n",
    "print(classification_report(all_labels, all_preds, target_names=class_names))"
   ]
  },
  {
   "cell_type": "markdown",
   "id": "00149b11",
   "metadata": {},
   "source": [
    "## Prueba con la camara"
   ]
  },
  {
   "cell_type": "markdown",
   "id": "eab4c24c",
   "metadata": {},
   "source": [
    "### 1. Cargar el modelo"
   ]
  },
  {
   "cell_type": "code",
   "execution_count": 5,
   "id": "827ee1d9",
   "metadata": {},
   "outputs": [
    {
     "name": "stdout",
     "output_type": "stream",
     "text": [
      "Modelo cargado correctamente\n"
     ]
    }
   ],
   "source": [
    "model = EmotionCNN().to(device)\n",
    "model.load_state_dict(torch.load(\"modelo_emociones.pt\", map_location=device))\n",
    "model.eval()\n",
    "class_names = ['Enojado', 'Disgustado', 'Aterrado', 'Feliz', 'Neutral', 'Triste', 'Asombrado']\n",
    "print(\"Modelo cargado correctamente\")"
   ]
  },
  {
   "cell_type": "markdown",
   "id": "cfb725b9",
   "metadata": {},
   "source": [
    "### 2. Encender la camara"
   ]
  },
  {
   "cell_type": "code",
   "execution_count": null,
   "id": "b08d24f3",
   "metadata": {},
   "outputs": [
    {
     "name": "stdout",
     "output_type": "stream",
     "text": [
      "Cámara iniciada. Presiona 'q' para salir.\n"
     ]
    },
    {
     "ename": "",
     "evalue": "",
     "output_type": "error",
     "traceback": [
      "\u001b[1;31mThe Kernel crashed while executing code in the current cell or a previous cell. \n",
      "\u001b[1;31mPlease review the code in the cell(s) to identify a possible cause of the failure. \n",
      "\u001b[1;31mClick <a href='https://aka.ms/vscodeJupyterKernelCrash'>here</a> for more info. \n",
      "\u001b[1;31mView Jupyter <a href='command:jupyter.viewOutput'>log</a> for further details."
     ]
    }
   ],
   "source": [
    "cap = cv2.VideoCapture(0)\n",
    "\n",
    "transform = transforms.Compose([\n",
    "    transforms.Grayscale(),\n",
    "    transforms.Resize((48, 48)),\n",
    "    transforms.ToTensor(),\n",
    "    transforms.Normalize((0.5,), (0.5,))\n",
    "])\n",
    "\n",
    "if not cap.isOpened():\n",
    "    print(\"No se pudo acceder a la cámara.\")\n",
    "    exit()\n",
    "\n",
    "face_cascade = cv2.CascadeClassifier(cv2.data.haarcascades + 'haarcascade_frontalface_default.xml')\n",
    "\n",
    "print(\"Cámara iniciada. Presiona 'q' para salir.\")\n",
    "\n",
    "while True:\n",
    "    ret, frame = cap.read()\n",
    "    if not ret:\n",
    "        break\n",
    "\n",
    "    gray = cv2.cvtColor(frame, cv2.COLOR_BGR2GRAY)\n",
    "    faces = face_cascade.detectMultiScale(gray, 1.3, 5)\n",
    "\n",
    "    for (x, y, w, h) in faces:\n",
    "        face = gray[y:y+h, x:x+w]\n",
    "        face_resized = cv2.resize(face, (48, 48))\n",
    "        face_pil = Image.fromarray(face_resized)\n",
    "        face_tensor = transform(face_pil).unsqueeze(0).to(device)\n",
    "\n",
    "        with torch.no_grad():\n",
    "            outputs = model(face_tensor)\n",
    "            _, pred = torch.max(outputs, 1)\n",
    "            emotion = class_names[pred.item()]\n",
    "\n",
    "        cv2.rectangle(frame, (x, y), (x+w, y+h), (0, 0, 0), 2)\n",
    "        cv2.putText(frame, emotion, (x, y-10), cv2.FONT_HERSHEY_SIMPLEX,\n",
    "                    1, (0, 0, 0), 2, cv2.LINE_AA)\n",
    "\n",
    "    cv2.imshow('Detección de emociones', frame)\n",
    "    if cv2.waitKey(1) & 0xFF == ord('q'):\n",
    "        break\n",
    "\n",
    "cap.release()\n",
    "cv2.destroyAllWindows()"
   ]
  }
 ],
 "metadata": {
  "kernelspec": {
   "display_name": ".venv",
   "language": "python",
   "name": "python3"
  },
  "language_info": {
   "codemirror_mode": {
    "name": "ipython",
    "version": 3
   },
   "file_extension": ".py",
   "mimetype": "text/x-python",
   "name": "python",
   "nbconvert_exporter": "python",
   "pygments_lexer": "ipython3",
   "version": "3.9.6"
  }
 },
 "nbformat": 4,
 "nbformat_minor": 5
}
