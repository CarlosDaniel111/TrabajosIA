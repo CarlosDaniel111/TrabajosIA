{
 "cells": [
  {
   "cell_type": "markdown",
   "metadata": {},
   "source": [
    "# Detector de correos Spam\n",
    "\n",
    "### Integrantes\n",
    "- Beltran Medina Carlos Daniel\n",
    "- Beltran Ontiveros Karen Valeria"
   ]
  },
  {
   "cell_type": "markdown",
   "metadata": {},
   "source": [
    "### 1. Importar las librerias necesarias"
   ]
  },
  {
   "cell_type": "code",
   "execution_count": 317,
   "metadata": {},
   "outputs": [],
   "source": [
    "import pandas as pd\n",
    "import numpy as np\n",
    "from sklearn.feature_extraction.text import CountVectorizer\n",
    "from sklearn.feature_extraction.text import TfidfVectorizer\n",
    "from sklearn.model_selection import train_test_split\n",
    "from sklearn.naive_bayes import MultinomialNB\n",
    "from nltk.corpus import stopwords"
   ]
  },
  {
   "cell_type": "markdown",
   "metadata": {},
   "source": [
    "### 2. Cargar los correos del dataset"
   ]
  },
  {
   "cell_type": "code",
   "execution_count": 318,
   "metadata": {},
   "outputs": [],
   "source": [
    "correos = pd.read_csv(\"dataset/emails.csv\")"
   ]
  },
  {
   "cell_type": "markdown",
   "metadata": {},
   "source": [
    "### 3. Preprocesamiento de los datos"
   ]
  },
  {
   "cell_type": "code",
   "execution_count": 319,
   "metadata": {},
   "outputs": [
    {
     "data": {
      "text/html": [
       "<div>\n",
       "<style scoped>\n",
       "    .dataframe tbody tr th:only-of-type {\n",
       "        vertical-align: middle;\n",
       "    }\n",
       "\n",
       "    .dataframe tbody tr th {\n",
       "        vertical-align: top;\n",
       "    }\n",
       "\n",
       "    .dataframe thead tr th {\n",
       "        text-align: left;\n",
       "    }\n",
       "\n",
       "    .dataframe thead tr:last-of-type th {\n",
       "        text-align: right;\n",
       "    }\n",
       "</style>\n",
       "<table border=\"1\" class=\"dataframe\">\n",
       "  <thead>\n",
       "    <tr>\n",
       "      <th></th>\n",
       "      <th colspan=\"4\" halign=\"left\">text</th>\n",
       "    </tr>\n",
       "    <tr>\n",
       "      <th></th>\n",
       "      <th>count</th>\n",
       "      <th>unique</th>\n",
       "      <th>top</th>\n",
       "      <th>freq</th>\n",
       "    </tr>\n",
       "    <tr>\n",
       "      <th>spam</th>\n",
       "      <th></th>\n",
       "      <th></th>\n",
       "      <th></th>\n",
       "      <th></th>\n",
       "    </tr>\n",
       "  </thead>\n",
       "  <tbody>\n",
       "    <tr>\n",
       "      <th>0</th>\n",
       "      <td>4327</td>\n",
       "      <td>4165</td>\n",
       "      <td>[subject:, california, update, 4, /, 27, /, 01...</td>\n",
       "      <td>2</td>\n",
       "    </tr>\n",
       "    <tr>\n",
       "      <th>1</th>\n",
       "      <td>1368</td>\n",
       "      <td>1367</td>\n",
       "      <td>[subject:, charity, sees, need, cost, ., ., .,...</td>\n",
       "      <td>2</td>\n",
       "    </tr>\n",
       "  </tbody>\n",
       "</table>\n",
       "</div>"
      ],
      "text/plain": [
       "      text                                                               \n",
       "     count unique                                                top freq\n",
       "spam                                                                     \n",
       "0     4327   4165  [subject:, california, update, 4, /, 27, /, 01...    2\n",
       "1     1368   1367  [subject:, charity, sees, need, cost, ., ., .,...    2"
      ]
     },
     "execution_count": 319,
     "metadata": {},
     "output_type": "execute_result"
    }
   ],
   "source": [
    "# 1. Eliminar registros duplicados\n",
    "correos = correos.drop_duplicates(subset=\"text\").copy()\n",
    "\n",
    "# 3. Convertir el texto a minúsculas\n",
    "correos['text'] = correos['text'].str.lower()\n",
    "\n",
    "# 4. Obtener stopwords en español e inglés\n",
    "palabras_vacias = set(stopwords.words('spanish')).union(set(stopwords.words('english')))\n",
    "\n",
    "# 5. Eliminar palabras vacías (stopwords)\n",
    "correos['text'] = correos['text'].apply(lambda x: ' '.join(\n",
    "    palabra for palabra in x.split() if palabra not in palabras_vacias))\n",
    "\n",
    "# 6. Filtrar correos que estén vacíos\n",
    "correos = correos[correos['text'].str.strip() != '']\n",
    "\n",
    "# 7. Tokenizar el texto\n",
    "correos['text'] = correos['text'].apply(lambda x: x.split())\n",
    "\n",
    "# 8. Agrupar los correos por la columna 'target' (spam/no spam)\n",
    "correos.groupby('spam').describe()"
   ]
  },
  {
   "cell_type": "markdown",
   "metadata": {},
   "source": [
    "### 4. Modelo"
   ]
  },
  {
   "cell_type": "code",
   "execution_count": 320,
   "metadata": {},
   "outputs": [],
   "source": [
    "# Vectorizar los correos electrónicos\n",
    "vectorizador = TfidfVectorizer(stop_words=\"english\")\n",
    "caracteristicas = vectorizador.fit_transform(correos['text'].apply(lambda x: ' '.join(x)))\n",
    "\n",
    "# Calcular la probabilidad previa de spam (P(spam))\n",
    "p_spam = correos['spam'].mean()\n",
    "\n",
    "# Calcular la probabilidad previa de no spam (P(no spam))\n",
    "p_no_spam = 1 - p_spam \n",
    "\n",
    "# Calcular la probabilidad de las características dado spam (P(caracteristicas|spam))\n",
    "mask_spam = correos['spam'].to_numpy().astype(int) == 1\n",
    "suma_spam = caracteristicas[mask_spam].sum(axis=0)\n",
    "p_caracteristicas_spam = np.array(suma_spam / suma_spam.sum()).flatten()\n",
    "\n",
    "# Calcular la probabilidad de las características dado no spam (P(caracteristicas|no spam))\n",
    "mask_no_spam = correos['spam'].to_numpy().astype(int) == 0\n",
    "suma_no_spam = caracteristicas[mask_no_spam].sum(axis=0)\n",
    "p_caracteristicas_no_spam = np.array(suma_no_spam / suma_no_spam.sum()).flatten()\n",
    "\n",
    "# Calcular la probabilidad posterior de que el correo sea spam (P(spam|caracteristicas))\n",
    "p_spam_por_correo = caracteristicas.dot(p_caracteristicas_spam.T)\n",
    "p_no_spam_por_correo = caracteristicas.dot(p_caracteristicas_no_spam.T)\n",
    "p_spam_caracteristicas = (p_spam * p_spam_por_correo) / (\n",
    "    (p_spam * p_spam_por_correo) + (p_no_spam * p_no_spam_por_correo)\n",
    ")\n"
   ]
  },
  {
   "cell_type": "markdown",
   "metadata": {},
   "source": [
    "### 5. Clasificacion"
   ]
  },
  {
   "cell_type": "code",
   "execution_count": 321,
   "metadata": {},
   "outputs": [],
   "source": [
    "clasificaciones = np.where(p_spam_caracteristicas > 0.5, 1, 0)\n",
    "\n",
    "# Convertir los valores reales de spam a un array\n",
    "spam_labels = correos['spam'].to_numpy().astype(int)"
   ]
  },
  {
   "cell_type": "markdown",
   "metadata": {},
   "source": [
    "### 6. Evaluacion"
   ]
  },
  {
   "cell_type": "code",
   "execution_count": 322,
   "metadata": {},
   "outputs": [
    {
     "name": "stdout",
     "output_type": "stream",
     "text": [
      "Precisión del clasificador: 0.83\n",
      "Recuperación del clasificador: 0.30\n"
     ]
    }
   ],
   "source": [
    "# Calcular la precisión\n",
    "precision = np.sum(clasificaciones == spam_labels) / len(clasificaciones)\n",
    "print(f\"Precisión del clasificador: {precision:.2f}\")\n",
    "recuperacion = np.sum((clasificaciones == 1) & (spam_labels == 1)) / np.sum(spam_labels == 1)\n",
    "print(f\"Recuperación del clasificador: {recuperacion:.2f}\")"
   ]
  },
  {
   "cell_type": "markdown",
   "metadata": {},
   "source": [
    "### 7. Probar con un correo"
   ]
  },
  {
   "cell_type": "code",
   "execution_count": 323,
   "metadata": {},
   "outputs": [],
   "source": [
    "# Asegurar que p_caracteristicas_spam y p_caracteristicas_no_spam sean vectores columna\n",
    "p_caracteristicas_spam = p_caracteristicas_spam.reshape(-1, 1)\n",
    "p_caracteristicas_no_spam = p_caracteristicas_no_spam.reshape(-1, 1)"
   ]
  },
  {
   "cell_type": "code",
   "execution_count": 324,
   "metadata": {},
   "outputs": [
    {
     "name": "stdout",
     "output_type": "stream",
     "text": [
      "El correo es spam.\n"
     ]
    }
   ],
   "source": [
    "#correo = \"Hello Manuel, I am writing to you to invite you to the party in Cesar's house\"\n",
    "correo = \"You have won a prize, click here to claim it\"\n",
    "\n",
    "# Vectorizar el correo nuevo\n",
    "correo_vectorizado = vectorizador.transform([correo])\n",
    "\n",
    "# Calcular P(caracteristicas|spam) y P(caracteristicas|no spam)\n",
    "p_spam_correo = (correo_vectorizado @ p_caracteristicas_spam)[0, 0]\n",
    "p_no_spam_correo = (correo_vectorizado @ p_caracteristicas_no_spam)[0, 0]\n",
    "\n",
    "# Evitar división por cero\n",
    "denominador = (p_spam * p_spam_correo) + (p_no_spam * p_no_spam_correo)\n",
    "if denominador == 0:\n",
    "    p_spam_correo_final = 0\n",
    "else:\n",
    "    p_spam_correo_final = (p_spam * p_spam_correo) / denominador\n",
    "\n",
    "# Mostrar resultados\n",
    "if p_spam_correo_final > 0.5:\n",
    "    print(\"El correo es spam.\")\n",
    "else:\n",
    "    print(\"El correo no es spam.\")"
   ]
  },
  {
   "cell_type": "markdown",
   "metadata": {},
   "source": [
    "### Extra: Utilizando libreria para el teorema de bayes"
   ]
  },
  {
   "cell_type": "code",
   "execution_count": 325,
   "metadata": {},
   "outputs": [
    {
     "name": "stdout",
     "output_type": "stream",
     "text": [
      "\n",
      "Precisión del modelo: 0.9908707865168539\n",
      "\n",
      "El correo ingresado es spam\n"
     ]
    }
   ],
   "source": [
    "# 1. Inicializar el vectorizador\n",
    "vectorizador = CountVectorizer()\n",
    "\n",
    "# 2. Dividir los datos en conjuntos de entrenamiento y prueba\n",
    "entrenamiento_x, prueba_x, entrenamiento_y, prueba_y = train_test_split(\n",
    "    correos['text'].apply(lambda x: ' '.join(x)),\n",
    "    correos['spam'],\n",
    "    test_size=0.25,\n",
    "    random_state=42\n",
    ")\n",
    "\n",
    "# 3. Ajustar y transformar los datos de entrenamiento\n",
    "matriz_entrenamiento_x = vectorizador.fit_transform(entrenamiento_x)\n",
    "\n",
    "# 4. Inicializar el modelo Naive Bayes Multinomial\n",
    "modelo_bayes = MultinomialNB()\n",
    "\n",
    "# 5. Entrenar el modelo\n",
    "modelo_bayes.fit(matriz_entrenamiento_x, entrenamiento_y)\n",
    "\n",
    "# 6. Preparar los datos de prueba\n",
    "matriz_prueba_x = vectorizador.transform(prueba_x)\n",
    "\n",
    "# 7. Evaluar el modelo con los datos de prueba\n",
    "precision = modelo_bayes.score(matriz_prueba_x, prueba_y)\n",
    "print(f\"\\nPrecisión del modelo: {precision}\")\n",
    "\n",
    "# 8. Predecir el correo nuevo\n",
    "#correo = \"Hello Manuel, I am writing to you to invite you to the party in Cesar's house\"\n",
    "correo = \"You have won a prize, click here to claim it\"\n",
    "correoVectorizado = vectorizador.transform([correo])\n",
    "prediccion = modelo_bayes.predict(correoVectorizado)\n",
    "print(f\"\\nEl correo ingresado es {'spam' if prediccion == 1 else 'no spam'}\")"
   ]
  }
 ],
 "metadata": {
  "kernelspec": {
   "display_name": "DetectorSpam",
   "language": "python",
   "name": "python3"
  },
  "language_info": {
   "codemirror_mode": {
    "name": "ipython",
    "version": 3
   },
   "file_extension": ".py",
   "mimetype": "text/x-python",
   "name": "python",
   "nbconvert_exporter": "python",
   "pygments_lexer": "ipython3",
   "version": "3.13.2"
  }
 },
 "nbformat": 4,
 "nbformat_minor": 2
}
